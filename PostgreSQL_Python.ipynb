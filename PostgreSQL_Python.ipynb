{
 "cells": [
  {
   "cell_type": "code",
   "execution_count": 47,
   "metadata": {},
   "outputs": [],
   "source": [
    "import psycopg2\n",
    "import pandas as pd"
   ]
  },
  {
   "cell_type": "markdown",
   "metadata": {},
   "source": []
  },
  {
   "cell_type": "code",
   "execution_count": 64,
   "metadata": {},
   "outputs": [],
   "source": [
    "# Fermer le curseur et la connexion\n",
    "cur.close()\n",
    "conn.close()"
   ]
  },
  {
   "cell_type": "code",
   "execution_count": 65,
   "metadata": {},
   "outputs": [
    {
     "name": "stdout",
     "output_type": "stream",
     "text": [
      "Table créée avec succès !\n"
     ]
    }
   ],
   "source": [
    "conn = psycopg2.connect(database = \"postgres\", \n",
    "                        user = 'postgres', \n",
    "                        host= 'localhost',\n",
    "                        password = 'postgresql',\n",
    "                        port = 5432)\n",
    "\n",
    "# 👉 Recréer le curseur ici !\n",
    "cur = conn.cursor()\n",
    "\n",
    "# Annuler toute transaction en erreur\n",
    "conn.rollback()\n",
    "\n",
    "# Exécuter la création de table\n",
    "cur.execute(\"DROP TABLE IF EXISTS taxi_zone\")\n",
    "cur.execute(\"\"\"CREATE TABLE taxi_zone (\n",
    "            LocationID INT,\n",
    "            Borough VARCHAR(250),\n",
    "            Zone VARCHAR(250),\n",
    "            service_zone VARCHAR(250))\n",
    "            \"\"\")\n",
    "conn.commit()  # Valider la transaction\n",
    "\n",
    "print(\"Table créée avec succès !\")\n",
    "\n",
    "# # Fermer le curseur et la connexion proprement\n",
    "# cur.close()\n",
    "# conn.close()"
   ]
  },
  {
   "cell_type": "markdown",
   "metadata": {},
   "source": [
    "1. Annuler la transaction en échec et recommencer"
   ]
  },
  {
   "cell_type": "code",
   "execution_count": 66,
   "metadata": {},
   "outputs": [],
   "source": [
    "conn.rollback()  # Annule la transaction en erreur\n",
    "\n",
    "cur.execute(\"DROP TABLE IF EXISTS taxi_zone\")\n",
    "cur.execute(\"\"\"CREATE TABLE taxi_zone (\n",
    "            LocationID INT,\n",
    "            Borough VARCHAR(250),\n",
    "            Zone VARCHAR(250),\n",
    "            service_zone VARCHAR(250))\n",
    "            \"\"\")\n",
    "conn.commit()  # Valide la transaction\n"
   ]
  },
  {
   "cell_type": "markdown",
   "metadata": {},
   "source": [
    "Suppression de la table"
   ]
  },
  {
   "cell_type": "code",
   "execution_count": 67,
   "metadata": {},
   "outputs": [],
   "source": [
    "cur.execute(\"DROP TABLE IF EXISTS taxi_zone\")\n",
    "cur.execute(\"\"\"CREATE TABLE taxi_zone (\n",
    "            LocationID INT,\n",
    "            Borough VARCHAR(250),\n",
    "            Zone VARCHAR(250),\n",
    "            service_zone VARCHAR(250))\n",
    "            \"\"\")\n",
    "# Make the changes to the database persistent\n",
    "conn.commit()"
   ]
  },
  {
   "cell_type": "code",
   "execution_count": null,
   "metadata": {},
   "outputs": [],
   "source": [
    "# Close cursor and communication with the database\n",
    "cur.close()\n",
    "conn.close()"
   ]
  },
  {
   "cell_type": "code",
   "execution_count": null,
   "metadata": {},
   "outputs": [],
   "source": []
  },
  {
   "cell_type": "markdown",
   "metadata": {},
   "source": [
    "Executing Basic PostgreSQL Queries in Python"
   ]
  },
  {
   "cell_type": "code",
   "execution_count": 68,
   "metadata": {},
   "outputs": [],
   "source": [
    "cur = conn.cursor()\n",
    "\n",
    "cur.execute(\"INSERT INTO taxi_zone(LocationID, Borough, Zone, service_zone ) VALUES(132,'Queens','JFK irport','Airports')\");\n",
    "cur.execute(\"INSERT INTO taxi_zone(LocationID, Borough, Zone, service_zone ) VALUES(13, 'Queens', 'LaGuardia Airport','Airports')\");\n",
    "cur.execute(\"INSERT INTO taxi_zone(LocationID, Borough, Zone, service_zone ) VALUES(169,'Bronx', 'Mount Hope','Boro Zone')\");\n",
    "cur.execute(\"INSERT INTO taxi_zone(LocationID, Borough, Zone, service_zone ) VALUES(211,'Manhattan','SoHo','Yellow Zone')\");\n",
    "cur.execute(\"INSERT INTO taxi_zone(LocationID, Borough, Zone, service_zone ) VALUES(176,'Staten Island','Oakwood','Boro Zone')\");\n",
    "cur.execute(\"INSERT INTO taxi_zone(LocationID, Borough, Zone, service_zone ) VALUES(14, 'Brooklyn','Bay Ridge','Boro Zone')\");\n",
    "\n",
    "conn.commit()   \n",
    "# conn.close()"
   ]
  },
  {
   "cell_type": "code",
   "execution_count": 76,
   "metadata": {},
   "outputs": [
    {
     "name": "stdout",
     "output_type": "stream",
     "text": [
      "   locationid        borough               zone service_zone\n",
      "0         132         Queens         JFK irport     Airports\n",
      "1          13         Queens  LaGuardia Airport     Airports\n",
      "2         169          Bronx         Mount Hope    Boro Zone\n",
      "3         211      Manhattan               SoHo  Yellow Zone\n",
      "4         176  Staten Island            Oakwood    Boro Zone\n",
      "5          14       Brooklyn          Bay Ridge    Boro Zone\n"
     ]
    }
   ],
   "source": [
    "# Récupération des données\n",
    "cur.execute(\"SELECT * FROM taxi_zone\")\n",
    "resultats = cur.fetchall()\n",
    "resultats = pd.DataFrame(resultats, columns = [desc[0] for desc in cur.description])\n",
    "print(resultats)\n"
   ]
  },
  {
   "cell_type": "code",
   "execution_count": 77,
   "metadata": {},
   "outputs": [
    {
     "name": "stdout",
     "output_type": "stream",
     "text": [
      "   locationid        borough               zone service_zone\n",
      "0         132         Queens         JFK irport     Airports\n",
      "1          13         Queens  LaGuardia Airport     Airports\n",
      "2         169          Bronx         Mount Hope    Boro Zone\n",
      "3         211      Manhattan               SoHo  Yellow Zone\n",
      "4         176  Staten Island            Oakwood    Boro Zone\n",
      "5          14       Brooklyn          Bay Ridge    Boro Zone\n"
     ]
    }
   ],
   "source": [
    "resultats = pd.DataFrame(resultats)\n",
    "\n",
    "print(resultats)\n"
   ]
  }
 ],
 "metadata": {
  "kernelspec": {
   "display_name": "Python 3",
   "language": "python",
   "name": "python3"
  },
  "language_info": {
   "codemirror_mode": {
    "name": "ipython",
    "version": 3
   },
   "file_extension": ".py",
   "mimetype": "text/x-python",
   "name": "python",
   "nbconvert_exporter": "python",
   "pygments_lexer": "ipython3",
   "version": "3.13.1"
  }
 },
 "nbformat": 4,
 "nbformat_minor": 2
}
